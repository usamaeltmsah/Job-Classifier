{
  "nbformat": 4,
  "nbformat_minor": 0,
  "metadata": {
    "colab": {
      "name": "job-title-classifier.ipynb",
      "provenance": [],
      "collapsed_sections": [],
      "include_colab_link": true
    },
    "kernelspec": {
      "name": "python3",
      "display_name": "Python 3"
    },
    "accelerator": "GPU"
  },
  "cells": [
    {
      "cell_type": "markdown",
      "metadata": {
        "id": "view-in-github",
        "colab_type": "text"
      },
      "source": [
        "<a href=\"https://colab.research.google.com/github/usamaeltmsah/Job-Classifier/blob/master/job_title_classifier.ipynb\" target=\"_parent\"><img src=\"https://colab.research.google.com/assets/colab-badge.svg\" alt=\"Open In Colab\"/></a>"
      ]
    },
    {
      "cell_type": "code",
      "metadata": {
        "id": "AFwzKmIgjbrp",
        "colab_type": "code",
        "colab": {}
      },
      "source": [
        "%%capture\n",
        "# Install the latest Tensorflow version.sentence\n",
        "!pip3 install --upgrade tensorflow-gpu\n",
        "# Install TF-Hub.\n",
        "!pip3 install tensorflow-hub\n",
        "!pip3 install seaborn"
      ],
      "execution_count": 0,
      "outputs": []
    },
    {
      "cell_type": "code",
      "metadata": {
        "id": "_4tHevHNEEHG",
        "colab_type": "code",
        "outputId": "cf758cf5-c81f-4330-eac0-8487c9344059",
        "colab": {
          "base_uri": "https://localhost:8080/",
          "height": 34
        }
      },
      "source": [
        "#@title Load the Universal Sentence Encoder's TF Hub module\n",
        "from absl import logging\n",
        "import tensorflow as tf\n",
        "import tensorflow_hub as hub\n",
        "import matplotlib.pyplot as plt\n",
        "import numpy as np\n",
        "import os\n",
        "import pandas as pd\n",
        "import re\n",
        "import seaborn as sns\n",
        "\n",
        "module_url = \"https://tfhub.dev/google/universal-sentence-encoder-large/5\" #@param [\"https://tfhub.dev/google/universal-sentence-encoder/4\", \"https://tfhub.dev/google/universal-sentence-encoder-large/5\"]\n",
        "model = hub.load(module_url)\n",
        "print (\"module %s loaded\" % module_url)"
      ],
      "execution_count": 0,
      "outputs": [
        {
          "output_type": "stream",
          "text": [
            "module https://tfhub.dev/google/universal-sentence-encoder-large/5 loaded\n"
          ],
          "name": "stdout"
        }
      ]
    },
    {
      "cell_type": "markdown",
      "metadata": {
        "id": "cIGeiMU1KALo",
        "colab_type": "text"
      },
      "source": [
        "## Mounting Google Drive locally"
      ]
    },
    {
      "cell_type": "code",
      "metadata": {
        "id": "MxEYvPqlJ8-y",
        "colab_type": "code",
        "outputId": "45636c93-3661-40cc-b139-f2b18b3b664a",
        "colab": {
          "base_uri": "https://localhost:8080/",
          "height": 34
        }
      },
      "source": [
        "from google.colab import drive\n",
        "drive.mount('/content/drive')"
      ],
      "execution_count": 0,
      "outputs": [
        {
          "output_type": "stream",
          "text": [
            "Drive already mounted at /content/drive; to attempt to forcibly remount, call drive.mount(\"/content/drive\", force_remount=True).\n"
          ],
          "name": "stdout"
        }
      ]
    },
    {
      "cell_type": "markdown",
      "metadata": {
        "id": "1xLKeht7KO-M",
        "colab_type": "text"
      },
      "source": [
        ""
      ]
    },
    {
      "cell_type": "code",
      "metadata": {
        "id": "comzy3QTF9Wy",
        "colab_type": "code",
        "colab": {}
      },
      "source": [
        "# Read all the descriptions from csv file\n",
        "def read_dataset(file_path):\n",
        "  names = ['Date', 'Last Update', 'Job Title', 'Job Description']\n",
        "  data = pd.read_csv(file_path, names = names, header=0)\n",
        "  return data"
      ],
      "execution_count": 0,
      "outputs": []
    },
    {
      "cell_type": "markdown",
      "metadata": {
        "id": "Dr_sJw71UwnA",
        "colab_type": "text"
      },
      "source": [
        "## Remove punctuations"
      ]
    },
    {
      "cell_type": "code",
      "metadata": {
        "id": "zDQOirU-U0a5",
        "colab_type": "code",
        "colab": {}
      },
      "source": [
        "def rem_punc(data):\n",
        "  return data.str.replace('[^\\w\\s]','')"
      ],
      "execution_count": 0,
      "outputs": []
    },
    {
      "cell_type": "code",
      "metadata": {
        "id": "Qwl2vie9WJxJ",
        "colab_type": "code",
        "colab": {}
      },
      "source": [
        "def rem_punc_from_text(text):\n",
        "  return re.sub(r'[^\\w\\s]','',text)"
      ],
      "execution_count": 0,
      "outputs": []
    },
    {
      "cell_type": "markdown",
      "metadata": {
        "id": "HvbOrPVISQ20",
        "colab_type": "text"
      },
      "source": [
        "## Removing Stop Words"
      ]
    },
    {
      "cell_type": "code",
      "metadata": {
        "id": "2qgOJDtHW5p7",
        "colab_type": "code",
        "outputId": "9934c7a0-62ad-4ed1-f7f3-3fef6e3ce5ad",
        "colab": {
          "base_uri": "https://localhost:8080/",
          "height": 51
        }
      },
      "source": [
        "import nltk\n",
        "nltk.download(\"stopwords\")\n",
        "from nltk.corpus import stopwords\n",
        "stop = stopwords.words('english')"
      ],
      "execution_count": 0,
      "outputs": [
        {
          "output_type": "stream",
          "text": [
            "[nltk_data] Downloading package stopwords to /root/nltk_data...\n",
            "[nltk_data]   Package stopwords is already up-to-date!\n"
          ],
          "name": "stdout"
        }
      ]
    },
    {
      "cell_type": "code",
      "metadata": {
        "id": "KwjAd8IWSSIj",
        "colab_type": "code",
        "colab": {}
      },
      "source": [
        "def rem_stop_words(data):\n",
        "  return data.apply(lambda x: \" \".join(x for x in x.split() if x not in stop))"
      ],
      "execution_count": 0,
      "outputs": []
    },
    {
      "cell_type": "code",
      "metadata": {
        "id": "U-jB9Ve4WGaG",
        "colab_type": "code",
        "colab": {}
      },
      "source": [
        "def rem_stop_words_from_text(text):\n",
        "  return \" \".join(text for text in text.split() if text not in stop)"
      ],
      "execution_count": 0,
      "outputs": []
    },
    {
      "cell_type": "code",
      "metadata": {
        "id": "qmPpydK0hh2s",
        "colab_type": "code",
        "colab": {}
      },
      "source": [
        "def count_words(sentence):\n",
        "  return len(re.findall(r'\\w+', sentence))"
      ],
      "execution_count": 0,
      "outputs": []
    },
    {
      "cell_type": "code",
      "metadata": {
        "id": "SJ3eOMSRScpP",
        "colab_type": "code",
        "colab": {}
      },
      "source": [
        "def compare_strings_lengths(s1, s2):\n",
        "  return count_words(s1) - count_words(s2)"
      ],
      "execution_count": 0,
      "outputs": []
    },
    {
      "cell_type": "code",
      "metadata": {
        "id": "9exaOkysAFDp",
        "colab_type": "code",
        "colab": {}
      },
      "source": [
        "# Return the index of the larger (according two n words) sentence\n",
        "# If s1 > s2 Return 0 Else return 1\n",
        "def which_larger(s1, s2):\n",
        "  return 0 if count_words(s1) > count_words(s2) else 1"
      ],
      "execution_count": 0,
      "outputs": []
    },
    {
      "cell_type": "code",
      "metadata": {
        "id": "-2CA9kQFFbLJ",
        "colab_type": "code",
        "colab": {}
      },
      "source": [
        "def embed(input):\n",
        "  return model(input)"
      ],
      "execution_count": 0,
      "outputs": []
    },
    {
      "cell_type": "code",
      "metadata": {
        "id": "y20FAQFoEGa2",
        "colab_type": "code",
        "colab": {}
      },
      "source": [
        "# Correlation matrix\n",
        "def calc_corr(features):\n",
        "  corr = np.inner(features, features)\n",
        "  return corr"
      ],
      "execution_count": 0,
      "outputs": []
    },
    {
      "cell_type": "code",
      "metadata": {
        "id": "kDh_QckIEM8r",
        "colab_type": "code",
        "colab": {}
      },
      "source": [
        "def sentence_embedding(sentences_):\n",
        "  sentence_embeddings_ = embed(sentences_)\n",
        "  return sentence_embeddings_"
      ],
      "execution_count": 0,
      "outputs": []
    },
    {
      "cell_type": "code",
      "metadata": {
        "id": "ixkT8GcGErz1",
        "colab_type": "code",
        "colab": {}
      },
      "source": [
        "def evaluate_answer(answers, applicant_answer):\n",
        "  answers.append(applicant_answer)\n",
        "\n",
        "  sentence_embeddings_ = sentence_embedding(answers)\n",
        "\n",
        "  corr = calc_corr(sentence_embeddings_)\n",
        "  return get_best_score(corr)"
      ],
      "execution_count": 0,
      "outputs": []
    },
    {
      "cell_type": "code",
      "metadata": {
        "id": "EC1pSrNvZSsw",
        "colab_type": "code",
        "colab": {}
      },
      "source": [
        "def evaluate_text(descriptions_embed, in_desc_embed):\n",
        "  descriptions_embed.append(in_desc_embed)\n",
        "  # corr = calc_corr(descriptions_embed)\n",
        "  # return get_best_score(corr)\n",
        "  # return corr"
      ],
      "execution_count": 0,
      "outputs": []
    },
    {
      "cell_type": "code",
      "metadata": {
        "id": "nB1Y9ejYEwPp",
        "colab_type": "code",
        "colab": {}
      },
      "source": [
        "# @Param corr: the similarity matrix between all the texts\n",
        "# The last is the applicant answer\n",
        "def get_best_score(corr):\n",
        "  length = len(corr)\n",
        "  in_description_corr = corr[length -1]\n",
        "  in_description_corr = np.delete(in_description_corr, -1)\n",
        "  return max(in_description_corr)"
      ],
      "execution_count": 0,
      "outputs": []
    },
    {
      "cell_type": "markdown",
      "metadata": {
        "id": "dGt1YS7gan3h",
        "colab_type": "text"
      },
      "source": [
        "## Clean All data"
      ]
    },
    {
      "cell_type": "code",
      "metadata": {
        "id": "5NiDLMv7aq0Y",
        "colab_type": "code",
        "colab": {}
      },
      "source": [
        "def clean_descriptions(descriptions):\n",
        "  if(isinstance(descriptions, pd.core.frame.DataFrame)):\n",
        "    descriptions = rem_stop_words(data['Job Description']) # Remove stop-words from the description\n",
        "    descriptions = rem_punc(descriptions) # Remove the punctuations\n",
        "  elif(isinstance(descriptions, str)):\n",
        "    descriptions = rem_stop_words_from_text(descriptions)\n",
        "    descriptions = rem_punc_from_text(descriptions)\n",
        "  else:\n",
        "    print(\"Check Datatype can't be: \", type(descriptions))\n",
        "    return\n",
        "  return descriptions"
      ],
      "execution_count": 0,
      "outputs": []
    },
    {
      "cell_type": "markdown",
      "metadata": {
        "id": "x4FlD7oHRnvL",
        "colab_type": "text"
      },
      "source": [
        "## Make N-grams"
      ]
    },
    {
      "cell_type": "code",
      "metadata": {
        "id": "xSqKhYVWPWmp",
        "colab_type": "code",
        "outputId": "5ef36a7e-6c9e-4d41-afe4-bb32210b16c9",
        "colab": {
          "base_uri": "https://localhost:8080/",
          "height": 68
        }
      },
      "source": [
        "# Import Library for ngrams\n",
        "from textblob import TextBlob\n",
        "nltk.download('punkt')"
      ],
      "execution_count": 0,
      "outputs": [
        {
          "output_type": "stream",
          "text": [
            "[nltk_data] Downloading package punkt to /root/nltk_data...\n",
            "[nltk_data]   Package punkt is already up-to-date!\n"
          ],
          "name": "stdout"
        },
        {
          "output_type": "execute_result",
          "data": {
            "text/plain": [
              "True"
            ]
          },
          "metadata": {
            "tags": []
          },
          "execution_count": 72
        }
      ]
    },
    {
      "cell_type": "code",
      "metadata": {
        "id": "K4kDIFyiKyS7",
        "colab_type": "code",
        "colab": {}
      },
      "source": [
        "def ngrams(text, n):\n",
        "  ngrams_word_lists_to_list = []\n",
        "  ngrams = TextBlob(text).ngrams(n)\n",
        "  for ngram in ngrams:\n",
        "    ngrams_word_lists_to_list.append(' '.join(word for word in ngram))\n",
        "  return ngrams_word_lists_to_list"
      ],
      "execution_count": 0,
      "outputs": []
    },
    {
      "cell_type": "code",
      "metadata": {
        "id": "1BsavAh9WVzI",
        "colab_type": "code",
        "colab": {}
      },
      "source": [
        "# Calculate the average for list of integers\n",
        "def average(lst):\n",
        "  # print(lst)\n",
        "  return sum(lst) / len(lst)"
      ],
      "execution_count": 0,
      "outputs": []
    },
    {
      "cell_type": "code",
      "metadata": {
        "id": "dkP9pD7jRtAl",
        "colab_type": "code",
        "colab": {}
      },
      "source": [
        "from random import randint\n",
        "def calc_n_dynamic_ngram(descriptions, in_description):\n",
        "  length = len(descriptions)\n",
        "  diff = []\n",
        "  for i in range(5):\n",
        "    j = randint(0, length-1)\n",
        "    # if which_larger(descriptions[j], in_description) == 1:\n",
        "    #   continue\n",
        "    diff.append(compare_strings_lengths(descriptions[j], in_description))\n",
        "  # if len(diff) == 3:\n",
        "  #   print(\"To big sentence!\")\n",
        "  #   return False\n",
        "  avg = int(abs(average(diff)))\n",
        "\n",
        "  return randint(2, avg)"
      ],
      "execution_count": 0,
      "outputs": []
    },
    {
      "cell_type": "code",
      "metadata": {
        "id": "HrfaIF51aMAT",
        "colab_type": "code",
        "colab": {}
      },
      "source": [
        "def dynamic_ngram(descriptions, in_description):\n",
        "  # n = calc_n_dynamic_ngram(descriptions, in_description)\n",
        "  n = 3\n",
        "  descriptions_grams = [ngrams(description, n) for description in descriptions]\n",
        "  in_description_ngram = ngrams(in_description, n)\n",
        "\n",
        "  return descriptions_grams, in_description_ngram"
      ],
      "execution_count": 0,
      "outputs": []
    },
    {
      "cell_type": "code",
      "metadata": {
        "id": "mvLj69Tfcqc_",
        "colab_type": "code",
        "colab": {}
      },
      "source": [
        "def classify(all_ngrams, job_titles):\n",
        "  evaluations = []\n",
        "  for description_ngram in all_ngrams[0]:\n",
        "    evaluation_ = []\n",
        "    for in_description_ngram in all_ngrams[1]:\n",
        "      evaluation_.append(evaluate_answer(description_ngram, in_description_ngram))\n",
        "    if len(evaluation_) > 0:\n",
        "      evaluations.append(average(evaluation_))\n",
        "    else:\n",
        "      evaluations.append(0)\n",
        "      \n",
        "  ind = evaluations.index(max(evaluations))\n",
        "  return evaluations.index(max(evaluations)), job_titles[ind]"
      ],
      "execution_count": 0,
      "outputs": []
    },
    {
      "cell_type": "code",
      "metadata": {
        "id": "C_x5bbEqIxkD",
        "colab_type": "code",
        "colab": {}
      },
      "source": [
        "def save_model(model, filename='/content/drive/My Drive/Colab Notebooks/occupations_dataset/finalized_model.sav'):\n",
        "  import pickle\n",
        "  pickle.dump(model, open(filename, 'wb'))"
      ],
      "execution_count": 0,
      "outputs": []
    },
    {
      "cell_type": "code",
      "metadata": {
        "id": "ttOvwaRTJK0Y",
        "colab_type": "code",
        "colab": {}
      },
      "source": [
        "def load_model(filename='/content/drive/My Drive/Colab Notebooks/occupations_dataset/finalized_model.sav'):\n",
        "  import pickle\n",
        "  return pickle.load(open(filename, 'rb'))"
      ],
      "execution_count": 0,
      "outputs": []
    },
    {
      "cell_type": "code",
      "metadata": {
        "id": "RFdw_0w0Ex-R",
        "colab_type": "code",
        "outputId": "e0355242-0fac-4e52-cdce-493a33b68350",
        "colab": {
          "base_uri": "https://localhost:8080/",
          "height": 34
        }
      },
      "source": [
        "descriptions = []\n",
        "in_description = input(\"Enter the description: \")\n",
        "\n",
        "# print(evaluate_answer(descriptions, in_description))"
      ],
      "execution_count": 0,
      "outputs": [
        {
          "output_type": "stream",
          "text": [
            "Enter the description: powerful, open source object-relational database system with over 30 years of active development that has earned\n"
          ],
          "name": "stdout"
        }
      ]
    },
    {
      "cell_type": "code",
      "metadata": {
        "id": "qNMFsLTYEz6x",
        "colab_type": "code",
        "colab": {}
      },
      "source": [
        "occup_file = \"/content/drive/My Drive/Colab Notebooks/occupations_dataset/npo_occupations.csv\"\n",
        "data = read_dataset(occup_file)\n",
        "descriptions = clean_descriptions(data)\n",
        "in_description = clean_descriptions(in_description)\n",
        "# descriptions = data.iloc[:,3]\n",
        "descriptions = descriptions.values.tolist()"
      ],
      "execution_count": 0,
      "outputs": []
    },
    {
      "cell_type": "code",
      "metadata": {
        "id": "VrT9PvVrSNuf",
        "colab_type": "code",
        "colab": {}
      },
      "source": [
        "all_ngrams = dynamic_ngram(descriptions, in_description)"
      ],
      "execution_count": 0,
      "outputs": []
    },
    {
      "cell_type": "code",
      "metadata": {
        "id": "4jrl6zplY0eH",
        "colab_type": "code",
        "colab": {}
      },
      "source": [
        "# all_ngrams = load_model()"
      ],
      "execution_count": 0,
      "outputs": []
    },
    {
      "cell_type": "code",
      "metadata": {
        "id": "c-_yzdU1bnJr",
        "colab_type": "code",
        "outputId": "b08eb3c0-3e11-45d0-f163-03999afcb81f",
        "colab": {
          "base_uri": "https://localhost:8080/",
          "height": 34
        }
      },
      "source": [
        "classify(all_ngrams, data['Job Title'])"
      ],
      "execution_count": 0,
      "outputs": [
        {
          "output_type": "execute_result",
          "data": {
            "text/plain": [
              "(1444, 'Database Architects ')"
            ]
          },
          "metadata": {
            "tags": []
          },
          "execution_count": 83
        }
      ]
    },
    {
      "cell_type": "code",
      "metadata": {
        "id": "RIti02zrSBRp",
        "colab_type": "code",
        "colab": {}
      },
      "source": [
        "def main():\n",
        "  # descriptions = []\n",
        "  # in_description = input(\"Enter the description: \")\n",
        "\n",
        "  # occup_file = \"/content/drive/My Drive/Colab Notebooks/occupations_dataset/npo_occupations.csv\"\n",
        "  # data = read_dataset(occup_file)\n",
        "  # descriptions = clean_descriptions(data)\n",
        "  # in_description = clean_descriptions(in_description)\n",
        "  # # descriptions = data.iloc[:,3]\n",
        "  # descriptions = descriptions.values.tolist()\n",
        "  all_ngrams = dynamic_ngram(descriptions, in_description)\n",
        "  predicted_job = classify(all_ngrams, data['Job Title'])"
      ],
      "execution_count": 0,
      "outputs": []
    },
    {
      "cell_type": "code",
      "metadata": {
        "id": "33x2aMAnOytI",
        "colab_type": "code",
        "outputId": "a87dae5f-08ec-45a0-a2cc-d7a629dab17c",
        "colab": {
          "base_uri": "https://localhost:8080/",
          "height": 282
        }
      },
      "source": [
        "if __name__ == \"__main__\":\n",
        "  main()"
      ],
      "execution_count": 0,
      "outputs": [
        {
          "output_type": "error",
          "ename": "NameError",
          "evalue": "ignored",
          "traceback": [
            "\u001b[0;31m---------------------------------------------------------------------------\u001b[0m",
            "\u001b[0;31mNameError\u001b[0m                                 Traceback (most recent call last)",
            "\u001b[0;32m<ipython-input-3-20a4c88e53ea>\u001b[0m in \u001b[0;36m<module>\u001b[0;34m()\u001b[0m\n\u001b[1;32m      1\u001b[0m \u001b[0;32mif\u001b[0m \u001b[0m__name__\u001b[0m \u001b[0;34m==\u001b[0m \u001b[0;34m\"__main__\"\u001b[0m\u001b[0;34m:\u001b[0m\u001b[0;34m\u001b[0m\u001b[0;34m\u001b[0m\u001b[0m\n\u001b[0;32m----> 2\u001b[0;31m   \u001b[0mmain\u001b[0m\u001b[0;34m(\u001b[0m\u001b[0;34m)\u001b[0m\u001b[0;34m\u001b[0m\u001b[0;34m\u001b[0m\u001b[0m\n\u001b[0m",
            "\u001b[0;32m<ipython-input-2-c38f461137fd>\u001b[0m in \u001b[0;36mmain\u001b[0;34m()\u001b[0m\n\u001b[1;32m      9\u001b[0m   \u001b[0;31m# # descriptions = data.iloc[:,3]\u001b[0m\u001b[0;34m\u001b[0m\u001b[0;34m\u001b[0m\u001b[0;34m\u001b[0m\u001b[0m\n\u001b[1;32m     10\u001b[0m   \u001b[0;31m# descriptions = descriptions.values.tolist()\u001b[0m\u001b[0;34m\u001b[0m\u001b[0;34m\u001b[0m\u001b[0;34m\u001b[0m\u001b[0m\n\u001b[0;32m---> 11\u001b[0;31m   \u001b[0mall_ngrams\u001b[0m \u001b[0;34m=\u001b[0m \u001b[0mdynamic_ngram\u001b[0m\u001b[0;34m(\u001b[0m\u001b[0mdescriptions\u001b[0m\u001b[0;34m,\u001b[0m \u001b[0min_description\u001b[0m\u001b[0;34m)\u001b[0m\u001b[0;34m\u001b[0m\u001b[0;34m\u001b[0m\u001b[0m\n\u001b[0m\u001b[1;32m     12\u001b[0m   \u001b[0mpredicted_job\u001b[0m \u001b[0;34m=\u001b[0m \u001b[0mclassify\u001b[0m\u001b[0;34m(\u001b[0m\u001b[0mall_ngrams\u001b[0m\u001b[0;34m,\u001b[0m \u001b[0mdata\u001b[0m\u001b[0;34m[\u001b[0m\u001b[0;34m'Job Title'\u001b[0m\u001b[0;34m]\u001b[0m\u001b[0;34m)\u001b[0m\u001b[0;34m\u001b[0m\u001b[0;34m\u001b[0m\u001b[0m\n",
            "\u001b[0;31mNameError\u001b[0m: name 'dynamic_ngram' is not defined"
          ]
        }
      ]
    },
    {
      "cell_type": "code",
      "metadata": {
        "id": "NDrwGsGOQakH",
        "colab_type": "code",
        "colab": {}
      },
      "source": [
        "n = 3\n",
        "desc_ngrams = [ngrams(desc, n) for desc in descriptions]"
      ],
      "execution_count": 0,
      "outputs": []
    },
    {
      "cell_type": "code",
      "metadata": {
        "id": "0GuNbmaFZmDJ",
        "colab_type": "code",
        "colab": {}
      },
      "source": [
        "desc_embeddings = [sentence_embedding(desc_ngram) for desc_ngram in desc_ngrams]\n",
        "in_desc_embed = sentence_embedding([in_description])"
      ],
      "execution_count": 0,
      "outputs": []
    },
    {
      "cell_type": "code",
      "metadata": {
        "id": "5PsZuMXha9YN",
        "colab_type": "code",
        "outputId": "8a9fc91d-0047-473a-b7a0-fec226ccf47f",
        "colab": {
          "base_uri": "https://localhost:8080/",
          "height": 425
        }
      },
      "source": [
        "evaluate_text(desc_embeddings, in_desc_embed[0])"
      ],
      "execution_count": 0,
      "outputs": [
        {
          "output_type": "error",
          "ename": "ValueError",
          "evalue": "ignored",
          "traceback": [
            "\u001b[0;31m---------------------------------------------------------------------------\u001b[0m",
            "\u001b[0;31mTypeError\u001b[0m                                 Traceback (most recent call last)",
            "\u001b[0;32m/usr/local/lib/python3.6/dist-packages/tensorflow_core/python/framework/ops.py\u001b[0m in \u001b[0;36m__float__\u001b[0;34m(self)\u001b[0m\n\u001b[1;32m    858\u001b[0m   \u001b[0;32mdef\u001b[0m \u001b[0m__float__\u001b[0m\u001b[0;34m(\u001b[0m\u001b[0mself\u001b[0m\u001b[0;34m)\u001b[0m\u001b[0;34m:\u001b[0m\u001b[0;34m\u001b[0m\u001b[0;34m\u001b[0m\u001b[0m\n\u001b[0;32m--> 859\u001b[0;31m     \u001b[0;32mreturn\u001b[0m \u001b[0mfloat\u001b[0m\u001b[0;34m(\u001b[0m\u001b[0mself\u001b[0m\u001b[0;34m.\u001b[0m\u001b[0m_numpy\u001b[0m\u001b[0;34m(\u001b[0m\u001b[0;34m)\u001b[0m\u001b[0;34m)\u001b[0m\u001b[0;34m\u001b[0m\u001b[0;34m\u001b[0m\u001b[0m\n\u001b[0m\u001b[1;32m    860\u001b[0m \u001b[0;34m\u001b[0m\u001b[0m\n",
            "\u001b[0;31mTypeError\u001b[0m: only size-1 arrays can be converted to Python scalars",
            "\nThe above exception was the direct cause of the following exception:\n",
            "\u001b[0;31mValueError\u001b[0m                                Traceback (most recent call last)",
            "\u001b[0;32m<ipython-input-90-c0a0db0d00e4>\u001b[0m in \u001b[0;36m<module>\u001b[0;34m()\u001b[0m\n\u001b[0;32m----> 1\u001b[0;31m \u001b[0mevaluate_text\u001b[0m\u001b[0;34m(\u001b[0m\u001b[0mdesc_embeddings\u001b[0m\u001b[0;34m,\u001b[0m \u001b[0min_desc_embed\u001b[0m\u001b[0;34m[\u001b[0m\u001b[0;36m0\u001b[0m\u001b[0;34m]\u001b[0m\u001b[0;34m)\u001b[0m\u001b[0;34m\u001b[0m\u001b[0;34m\u001b[0m\u001b[0m\n\u001b[0m",
            "\u001b[0;32m<ipython-input-89-ca17e9b03a1e>\u001b[0m in \u001b[0;36mevaluate_text\u001b[0;34m(descriptions_embed, in_desc_embed)\u001b[0m\n\u001b[1;32m      1\u001b[0m \u001b[0;32mdef\u001b[0m \u001b[0mevaluate_text\u001b[0m\u001b[0;34m(\u001b[0m\u001b[0mdescriptions_embed\u001b[0m\u001b[0;34m,\u001b[0m \u001b[0min_desc_embed\u001b[0m\u001b[0;34m)\u001b[0m\u001b[0;34m:\u001b[0m\u001b[0;34m\u001b[0m\u001b[0;34m\u001b[0m\u001b[0m\n\u001b[1;32m      2\u001b[0m   \u001b[0mdescriptions_embed\u001b[0m\u001b[0;34m.\u001b[0m\u001b[0mappend\u001b[0m\u001b[0;34m(\u001b[0m\u001b[0min_desc_embed\u001b[0m\u001b[0;34m)\u001b[0m\u001b[0;34m\u001b[0m\u001b[0;34m\u001b[0m\u001b[0m\n\u001b[0;32m----> 3\u001b[0;31m   \u001b[0mcorr\u001b[0m \u001b[0;34m=\u001b[0m \u001b[0mcalc_corr\u001b[0m\u001b[0;34m(\u001b[0m\u001b[0mdescriptions_embed\u001b[0m\u001b[0;34m)\u001b[0m\u001b[0;34m\u001b[0m\u001b[0;34m\u001b[0m\u001b[0m\n\u001b[0m\u001b[1;32m      4\u001b[0m   \u001b[0;32mreturn\u001b[0m \u001b[0mget_best_score\u001b[0m\u001b[0;34m(\u001b[0m\u001b[0mcorr\u001b[0m\u001b[0;34m)\u001b[0m\u001b[0;34m\u001b[0m\u001b[0;34m\u001b[0m\u001b[0m\n\u001b[1;32m      5\u001b[0m   \u001b[0;32mreturn\u001b[0m \u001b[0mcorr\u001b[0m\u001b[0;34m\u001b[0m\u001b[0;34m\u001b[0m\u001b[0m\n",
            "\u001b[0;32m<ipython-input-66-4a3ada6fe099>\u001b[0m in \u001b[0;36mcalc_corr\u001b[0;34m(features)\u001b[0m\n\u001b[1;32m      1\u001b[0m \u001b[0;32mdef\u001b[0m \u001b[0mcalc_corr\u001b[0m\u001b[0;34m(\u001b[0m\u001b[0mfeatures\u001b[0m\u001b[0;34m)\u001b[0m\u001b[0;34m:\u001b[0m\u001b[0;34m\u001b[0m\u001b[0;34m\u001b[0m\u001b[0m\n\u001b[0;32m----> 2\u001b[0;31m   \u001b[0mcorr\u001b[0m \u001b[0;34m=\u001b[0m \u001b[0mnp\u001b[0m\u001b[0;34m.\u001b[0m\u001b[0minner\u001b[0m\u001b[0;34m(\u001b[0m\u001b[0mfeatures\u001b[0m\u001b[0;34m,\u001b[0m \u001b[0mfeatures\u001b[0m\u001b[0;34m)\u001b[0m\u001b[0;34m\u001b[0m\u001b[0;34m\u001b[0m\u001b[0m\n\u001b[0m\u001b[1;32m      3\u001b[0m   \u001b[0;32mreturn\u001b[0m \u001b[0mcorr\u001b[0m\u001b[0;34m\u001b[0m\u001b[0;34m\u001b[0m\u001b[0m\n",
            "\u001b[0;32m<__array_function__ internals>\u001b[0m in \u001b[0;36minner\u001b[0;34m(*args, **kwargs)\u001b[0m\n",
            "\u001b[0;31mValueError\u001b[0m: setting an array element with a sequence."
          ]
        }
      ]
    },
    {
      "cell_type": "code",
      "metadata": {
        "id": "iDKzBhOfbJWY",
        "colab_type": "code",
        "outputId": "4c4ebc84-4cb6-49d9-db22-970580ba7cdb",
        "colab": {
          "base_uri": "https://localhost:8080/",
          "height": 1000
        }
      },
      "source": [
        "in_desc_embed[0]"
      ],
      "execution_count": 0,
      "outputs": [
        {
          "output_type": "execute_result",
          "data": {
            "text/plain": [
              "<tf.Tensor: shape=(512,), dtype=float32, numpy=\n",
              "array([ 5.97083010e-02,  1.66217722e-02, -4.53656502e-02, -4.11200412e-02,\n",
              "        5.22415154e-02,  1.62055120e-02,  4.47978824e-03,  1.09153399e-02,\n",
              "        5.69913760e-02, -7.25785941e-02, -2.15205383e-02, -5.06714359e-03,\n",
              "       -3.72533090e-02,  2.54637655e-02, -5.27620763e-02, -2.63341647e-02,\n",
              "       -3.50272134e-02,  3.45307924e-02,  1.73696037e-02,  1.63036864e-02,\n",
              "       -5.74379861e-02,  3.06069795e-02, -1.23732984e-02,  2.39667371e-02,\n",
              "       -6.54200837e-02,  1.47247836e-02, -6.23083524e-02, -2.43534241e-02,\n",
              "       -1.39863193e-02,  1.04058243e-01,  4.96279597e-02, -2.92044673e-02,\n",
              "        4.11120653e-02,  7.14798868e-02, -5.92965148e-02,  1.37531413e-02,\n",
              "        8.54870602e-02,  3.41858156e-02, -2.39310018e-03, -5.83407516e-03,\n",
              "       -7.51781464e-02,  3.42067406e-02,  6.79537728e-02, -9.30743366e-02,\n",
              "       -3.93298902e-02,  1.97378341e-02,  2.84429826e-02, -1.93067491e-02,\n",
              "       -5.70718832e-02,  5.29325269e-02,  3.16250660e-02, -1.10272039e-02,\n",
              "       -4.71496070e-03, -6.22653849e-02, -9.60706770e-02, -2.56241881e-04,\n",
              "        5.01844510e-02, -9.87280384e-02,  3.61200720e-02, -2.28547063e-02,\n",
              "       -1.01628266e-01, -3.14898491e-02,  7.34722912e-02, -3.84896286e-02,\n",
              "       -1.15014315e-02,  3.11506260e-02,  5.82413981e-03, -1.07266370e-03,\n",
              "        8.83966964e-03,  8.76128580e-03, -2.11081058e-02, -5.68950139e-02,\n",
              "       -9.69979987e-02,  6.70864433e-02,  4.70513701e-02, -3.33129941e-03,\n",
              "        7.13334978e-02,  3.66180297e-03, -8.84648785e-02,  1.33739784e-02,\n",
              "       -1.16162218e-01,  4.60114479e-02,  5.75082051e-03,  2.18636468e-02,\n",
              "       -1.23199917e-01, -2.12242939e-02, -7.41546825e-02, -3.27719450e-02,\n",
              "        7.11200992e-04,  2.65409313e-02,  2.49308012e-02, -5.83471060e-02,\n",
              "        2.99805105e-02, -7.08066523e-02, -4.99140434e-02,  6.28365427e-02,\n",
              "        2.20478270e-02,  5.39637953e-02, -9.51948389e-03,  3.15494314e-02,\n",
              "        5.65860644e-02, -2.16285046e-02,  3.64346392e-02, -3.94745842e-02,\n",
              "        1.16561139e-02, -3.17408480e-02,  1.04784658e-02,  3.32130641e-02,\n",
              "       -5.73772984e-03, -8.69226307e-02, -4.36684936e-02,  5.68952598e-02,\n",
              "        1.15230242e-02,  5.01230406e-03, -9.32961553e-02, -5.82211688e-02,\n",
              "        3.98586616e-02,  6.74605649e-03,  2.30420195e-02,  6.70755794e-03,\n",
              "        8.39307532e-03, -4.60299514e-02, -3.14623280e-03, -1.23414882e-01,\n",
              "        4.43789130e-03,  8.53884369e-02,  1.98582020e-02,  4.00470607e-02,\n",
              "       -4.05412167e-02,  1.32607799e-02,  2.81865206e-02,  4.96626347e-02,\n",
              "        9.17085726e-03, -4.97245640e-02,  6.99349260e-03,  3.37418765e-02,\n",
              "        4.24920097e-02, -5.85478805e-02,  3.36689241e-02,  4.21566218e-02,\n",
              "       -4.83208932e-02, -1.03756869e-02,  3.12024523e-02,  2.85397470e-02,\n",
              "        5.82748605e-03,  6.91640675e-02,  1.18607245e-02, -1.22284535e-02,\n",
              "        3.68237719e-02, -1.99477207e-02,  1.19248200e-02, -2.14321562e-03,\n",
              "       -3.70115712e-02, -7.06935348e-03,  3.59522514e-02,  2.42982414e-02,\n",
              "       -2.37684161e-03, -2.84413323e-02, -6.24866895e-02,  2.68268306e-03,\n",
              "        1.85105577e-02, -1.95956789e-02, -3.80102023e-02,  5.36262766e-02,\n",
              "       -3.88731584e-02, -2.22206302e-02,  3.83676775e-03,  2.64657177e-02,\n",
              "       -5.84869906e-02,  5.24218008e-02,  7.73225054e-02,  6.67783469e-02,\n",
              "       -2.69688163e-02,  1.18877433e-01, -3.96593660e-02, -9.23112407e-03,\n",
              "        2.41263583e-02, -1.22819826e-01,  2.09298860e-02,  2.89346743e-02,\n",
              "       -5.39726838e-02,  1.60906441e-03,  3.54161896e-02,  5.57466820e-02,\n",
              "       -2.77519710e-02, -5.24235368e-02, -7.89594371e-03,  4.65388559e-02,\n",
              "       -1.95925627e-02, -3.89920361e-02,  9.59328189e-03,  4.08131555e-02,\n",
              "        1.32023562e-02,  4.10875529e-02, -1.92902498e-02,  5.31774051e-02,\n",
              "        9.20396671e-02, -6.79825023e-02,  3.17847058e-02, -8.80247876e-02,\n",
              "       -9.31655429e-03, -2.31905989e-02,  8.30172524e-02,  3.25421691e-02,\n",
              "       -3.32426815e-03,  7.79647529e-02,  2.09194664e-02,  6.20311089e-02,\n",
              "       -4.71391268e-02, -2.70378906e-02, -1.30969044e-02, -6.91459849e-02,\n",
              "       -6.34358153e-02,  3.94770913e-02, -2.47084219e-02,  9.28015187e-02,\n",
              "        3.43312137e-02,  5.07203750e-02,  7.15913204e-03, -4.29857969e-02,\n",
              "       -8.51005223e-03,  4.46860455e-02, -5.23744822e-02, -3.97092775e-02,\n",
              "       -5.44594899e-02,  4.17620912e-02,  4.30407822e-02, -5.20676523e-02,\n",
              "       -2.59125605e-02,  6.58579767e-02, -1.94626451e-02,  5.35442643e-02,\n",
              "        1.10424684e-04, -2.51744520e-02,  3.20772007e-02,  2.34157150e-03,\n",
              "       -1.85385030e-02,  8.60183220e-03,  3.60208750e-02,  7.86312968e-02,\n",
              "        3.75766843e-03, -2.30866782e-02,  2.26824284e-02, -4.46777083e-02,\n",
              "        1.96600938e-03,  6.81466004e-03, -5.42942435e-02, -1.06355743e-02,\n",
              "       -1.48653460e-03, -3.47358431e-03, -5.50598081e-04,  4.04750295e-02,\n",
              "       -3.36325020e-02,  1.10430708e-02,  2.13983189e-03,  1.79248443e-03,\n",
              "       -1.41206710e-02, -2.54290290e-02, -3.49342115e-02,  1.02727590e-02,\n",
              "       -3.09337210e-02, -7.01006781e-03,  3.61480042e-02, -6.77336529e-02,\n",
              "        1.69717055e-02, -7.94145018e-02,  2.83386391e-02, -3.14886682e-02,\n",
              "        2.15781275e-02, -1.86640751e-02,  3.48826461e-02,  1.04651459e-01,\n",
              "        2.62734797e-02,  3.21469866e-02,  9.28385183e-03, -6.72236318e-03,\n",
              "       -2.01827511e-02,  2.67765410e-02,  1.97138414e-02, -2.52779368e-02,\n",
              "       -4.16931175e-02, -1.03985220e-01, -1.11780996e-02,  2.41074003e-02,\n",
              "       -6.46581799e-02, -1.00321332e-02, -4.49212752e-02, -1.54353883e-02,\n",
              "        3.96392029e-03,  4.74624074e-04,  2.07637120e-02, -5.05466051e-02,\n",
              "        5.29641360e-02, -4.30137329e-02, -5.60296886e-02,  1.73017215e-02,\n",
              "       -1.37208425e-03, -2.83809770e-02,  3.55397649e-02,  9.08209831e-02,\n",
              "        5.83131872e-02, -2.71250997e-02, -1.50309354e-02, -1.01756006e-02,\n",
              "        4.67438623e-02, -2.15807389e-02,  3.51156555e-02,  1.50841210e-04,\n",
              "        5.26346359e-03,  1.07309464e-02,  4.97085266e-02, -5.44069000e-02,\n",
              "       -6.27663685e-03, -1.30855031e-02, -6.62872270e-02,  9.61901024e-02,\n",
              "       -4.52406406e-02,  7.12938309e-02,  1.07529163e-02, -9.47629213e-02,\n",
              "        4.79606166e-02, -4.98151183e-02, -4.54488248e-02, -4.56667691e-02,\n",
              "        1.81978382e-02, -5.46600036e-02,  6.59989640e-02, -3.36194411e-02,\n",
              "       -1.16029792e-01, -2.29602698e-02,  4.13984433e-02, -3.45277376e-02,\n",
              "       -1.00900583e-01, -8.39575368e-04, -4.64508757e-02,  2.86863744e-02,\n",
              "       -8.66539497e-03, -6.27578571e-02,  3.60140093e-02, -8.27680435e-03,\n",
              "       -6.29019514e-02, -4.87890840e-02, -6.75186440e-02,  1.27825718e-02,\n",
              "        4.63792868e-02, -5.25806881e-02,  4.29891609e-02,  2.05243602e-02,\n",
              "       -4.34717610e-02, -7.30157085e-03,  7.63972178e-02, -6.48022145e-02,\n",
              "        3.22560556e-02,  1.65907312e-02,  3.90046500e-02,  5.55698387e-02,\n",
              "       -8.76650959e-03, -3.28522325e-02, -5.67212217e-02,  1.23643886e-05,\n",
              "        5.45931458e-02,  9.06600209e-04,  1.10835910e-01,  2.94994633e-03,\n",
              "       -7.15202652e-03, -5.44377454e-02, -9.51156951e-04, -2.08816142e-03,\n",
              "       -5.92448283e-03,  3.82070839e-02,  3.62386890e-02, -1.71904806e-02,\n",
              "        2.30163019e-02,  4.15080152e-02, -6.10800050e-02, -1.37428916e-03,\n",
              "       -1.19790982e-03, -7.29773566e-02,  6.10304950e-03, -6.33833976e-03,\n",
              "       -8.17675143e-03,  8.32203589e-03,  1.33329490e-02,  1.02382958e-01,\n",
              "        1.36560276e-02,  4.98118401e-02, -1.41491285e-02, -3.89307067e-02,\n",
              "       -4.01563644e-02,  6.47739545e-02, -3.58098410e-02,  2.97904909e-02,\n",
              "        2.33168295e-03, -1.88378757e-03, -1.96813196e-02,  1.90514755e-02,\n",
              "        4.67448123e-02,  5.37317395e-02,  5.02252318e-02,  5.25894724e-02,\n",
              "        5.18298359e-04, -1.30262626e-02,  3.19636427e-02, -1.33170644e-02,\n",
              "        1.41024601e-03, -7.16628060e-02, -6.97628260e-02,  2.61209141e-02,\n",
              "       -1.98140349e-02, -1.57137606e-02,  5.60508557e-02, -4.95906770e-02,\n",
              "        2.04501320e-02,  8.03282764e-03,  4.55965102e-02, -4.03395332e-02,\n",
              "        3.61752100e-02, -4.43696864e-02, -1.51372030e-02,  9.52756926e-02,\n",
              "        3.52569856e-02,  7.44202291e-04, -2.25989278e-02, -4.74070795e-02,\n",
              "        6.58303723e-02,  1.74444597e-02,  3.54395546e-02,  1.14465570e-02,\n",
              "        5.27755171e-02,  4.91261818e-02, -1.07391896e-02, -6.84288610e-03,\n",
              "       -2.75171548e-02,  1.51432054e-02, -1.87384225e-02, -3.85798700e-02,\n",
              "        2.57440377e-02,  8.37916601e-03,  2.92045344e-02,  6.02180585e-02,\n",
              "        6.06473126e-02,  6.04926758e-02,  1.23376315e-02, -2.31151190e-02,\n",
              "        1.54293410e-03, -9.12550613e-02,  4.28406475e-03,  3.30455452e-02,\n",
              "       -1.06664589e-02,  2.24555209e-02, -2.45037349e-03, -3.11644170e-02,\n",
              "        1.19720139e-02, -2.08210312e-02, -8.29008128e-03,  1.53962411e-02,\n",
              "       -9.06312391e-02, -2.77570244e-02, -4.97930348e-02,  4.22359305e-03,\n",
              "       -5.55461347e-02, -1.07981628e-02, -5.36664948e-02, -5.15295416e-02,\n",
              "       -5.20316791e-03, -3.82164195e-02,  6.32309020e-02,  1.38128744e-02,\n",
              "        6.23041727e-02, -7.07746893e-02,  2.27553342e-02,  1.92702841e-02,\n",
              "        7.93549269e-02,  6.53912276e-02,  1.87956244e-02,  2.23203655e-02,\n",
              "       -4.52544801e-02,  3.35045718e-02, -1.61240008e-02, -3.64651680e-02,\n",
              "       -5.31306826e-02, -1.19027840e-02,  1.62396803e-02,  3.46058086e-02,\n",
              "       -8.26030001e-02, -2.07952745e-02, -4.69684154e-02,  6.31895848e-03,\n",
              "        6.53478652e-02,  1.68077517e-02, -9.45399236e-03, -5.16938642e-02,\n",
              "       -1.97581621e-03, -6.45584520e-03, -4.93174270e-02, -3.81089449e-02,\n",
              "       -5.12263458e-03,  4.63410765e-02,  2.29370017e-02,  4.55865227e-02,\n",
              "        1.18613373e-02,  3.41239981e-02, -2.25653108e-02,  8.00093822e-03,\n",
              "       -4.39272113e-02, -8.00588168e-03, -3.31086628e-02, -9.24004391e-02,\n",
              "       -5.58747128e-02,  2.09873319e-02,  2.84020025e-02, -7.48503730e-02],\n",
              "      dtype=float32)>"
            ]
          },
          "metadata": {
            "tags": []
          },
          "execution_count": 88
        }
      ]
    },
    {
      "cell_type": "code",
      "metadata": {
        "id": "gjsHRuoicqtu",
        "colab_type": "code",
        "colab": {}
      },
      "source": [
        ""
      ],
      "execution_count": 0,
      "outputs": []
    }
  ]
}